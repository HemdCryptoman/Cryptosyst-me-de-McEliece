{
 "cells": [
  {
   "cell_type": "markdown",
   "metadata": {
    "scrolled": false
   },
   "source": [
    "# -----------------------------------------------------------------------------\n",
    "\n",
    "# Prenom & Nom : El Hadji Mamadou Dia\n",
    "# Universite : Gaton Berger de Saint Louis\n",
    "# UFR : SAT\n",
    "# Parcours : Cryptotologie, Codage et Application(CCA)\n",
    "# Niveau : Master I\n",
    "# Module : Code Correcteur\n",
    "# Annee Universitaire : 2020/2021\n",
    "# -----------------------------------------------------------------------------"
   ]
  },
  {
   "cell_type": "markdown",
   "metadata": {},
   "source": [
    "# GENERATION DE CLE"
   ]
  },
  {
   "cell_type": "code",
   "execution_count": 236,
   "metadata": {
    "scrolled": false
   },
   "outputs": [
    {
     "name": "stdout",
     "output_type": "stream",
     "text": [
      "________________________________________________________\n",
      "------------- |Cryptosysteme McEliece| -----------------\n",
      "________________________________________________________\n",
      "--------------- |Generation de cle| --------------------\n",
      "________________________________________________________\n"
     ]
    },
    {
     "data": {
      "text/html": [
       "<html><script type=\"math/tex; mode=display\">\\newcommand{\\Bold}[1]{\\mathbf{#1}}\\begin{array}{l}\n",
       "\\verb|Nous|\\phantom{\\verb!x!}\\verb|avons|\\phantom{\\verb!x!}\\verb|generer|\\phantom{\\verb!x!}\\verb|le|\\phantom{\\verb!x!}\\verb|polynome|\\phantom{\\verb!x!}\\verb|irreductible|\\phantom{\\verb!x!}\\verb|ci-dessous|\\\\\n",
       "\\phantom{\\verb!x!}\n",
       "\\end{array}</script></html>"
      ],
      "text/plain": [
       "'Nous avons generer le polynome irreductible ci-dessous\\n'"
      ]
     },
     "metadata": {},
     "output_type": "display_data"
    },
    {
     "data": {
      "text/html": [
       "<html><script type=\"math/tex; mode=display\">\\newcommand{\\Bold}[1]{\\mathbf{#1}}\\verb|g|\\phantom{\\verb!x!}\\verb|=| \\left(Z^{2} + Z + 1\\right) X^{2} + \\left(Z^{3} + Z^{2}\\right) X + Z^{3} + 1</script></html>"
      ],
      "text/plain": [
       "'g = ' (Z^2 + Z + 1)*X^2 + (Z^3 + Z^2)*X + Z^3 + 1"
      ]
     },
     "metadata": {},
     "output_type": "display_data"
    },
    {
     "data": {
      "text/html": [
       "<html><script type=\"math/tex; mode=display\">\\newcommand{\\Bold}[1]{\\mathbf{#1}}\\begin{array}{l}\n",
       "\\verb|Nous|\\phantom{\\verb!x!}\\verb|avons|\\phantom{\\verb!x!}\\verb|generer|\\phantom{\\verb!x!}\\verb|le|\\phantom{\\verb!x!}\\verb|support|\\phantom{\\verb!x!}\\verb|ci-dessous|\\\\\n",
       "\\phantom{\\verb!x!}\n",
       "\\end{array}</script></html>"
      ],
      "text/plain": [
       "'Nous avons generer le support ci-dessous\\n'"
      ]
     },
     "metadata": {},
     "output_type": "display_data"
    },
    {
     "data": {
      "text/html": [
       "<html><script type=\"math/tex; mode=display\">\\newcommand{\\Bold}[1]{\\mathbf{#1}}\\verb|L|\\phantom{\\verb!x!}\\verb|=| \\left(Z^{2} + 1,\\,Z^{3} + Z^{2} + Z,\\,0,\\,Z^{3} + 1,\\,Z^{3} + Z,\\,Z^{3} + Z^{2},\\,Z^{2} + Z,\\,Z^{2} + Z,\\,Z^{3} + Z^{2} + Z,\\,Z + 1\\right)</script></html>"
      ],
      "text/plain": [
       "'L = ' (Z^2 + 1, Z^3 + Z^2 + Z, 0, Z^3 + 1, Z^3 + Z, Z^3 + Z^2, Z^2 + Z, Z^2 + Z, Z^3 + Z^2 + Z, Z + 1)"
      ]
     },
     "metadata": {},
     "output_type": "display_data"
    },
    {
     "data": {
      "text/html": [
       "<html><script type=\"math/tex; mode=display\">\\newcommand{\\Bold}[1]{\\mathbf{#1}}\\verb|La|\\phantom{\\verb!x!}\\verb|matrice|\\phantom{\\verb!x!}\\verb|de|\\phantom{\\verb!x!}\\verb|parite|\\phantom{\\verb!x!}\\verb|est|\\phantom{\\verb!x!}\\verb|donne|\\phantom{\\verb!x!}\\verb|par:|</script></html>"
      ],
      "text/plain": [
       "'La matrice de parite est donne par:'"
      ]
     },
     "metadata": {},
     "output_type": "display_data"
    },
    {
     "data": {
      "text/html": [
       "<html><script type=\"math/tex; mode=display\">\\newcommand{\\Bold}[1]{\\mathbf{#1}}\\verb|H|\\phantom{\\verb!x!}\\verb|=| \\left(\\begin{array}{rrrrrrrrrr}\n",
       "Z + 1 & Z^{3} + Z^{2} + Z + 1 & Z^{2} + Z & Z^{3} + Z^{2} + 1 & Z^{3} + Z^{2} & Z^{3} + 1 & Z^{3} + Z + 1 & 1 & Z^{2} + 1 & Z \\\\\n",
       "Z & Z^{3} + Z^{2} + Z + 1 & Z^{2} + 1 & Z + 1 & 1 & Z^{3} + Z^{2} + Z & Z^{3} + Z + 1 & Z^{3} & Z^{3} + 1 & Z^{2} + Z + 1\n",
       "\\end{array}\\right)</script></html>"
      ],
      "text/plain": [
       "'H = ' [            Z + 1 Z^3 + Z^2 + Z + 1           Z^2 + Z     Z^3 + Z^2 + 1         Z^3 + Z^2           Z^3 + 1       Z^3 + Z + 1                 1           Z^2 + 1                 Z]\n",
       "[                Z Z^3 + Z^2 + Z + 1           Z^2 + 1             Z + 1                 1     Z^3 + Z^2 + Z       Z^3 + Z + 1               Z^3           Z^3 + 1       Z^2 + Z + 1]"
      ]
     },
     "metadata": {},
     "output_type": "display_data"
    },
    {
     "data": {
      "text/html": [
       "<html><script type=\"math/tex; mode=display\">\\newcommand{\\Bold}[1]{\\mathbf{#1}}\\verb|Hb|\\phantom{\\verb!x!}\\verb|=| \\left(\\begin{array}{rrrrrrrrrr}\n",
       "1 & 1 & 0 & 1 & 0 & 1 & 1 & 1 & 1 & 0 \\\\\n",
       "1 & 1 & 1 & 0 & 0 & 0 & 1 & 0 & 0 & 1 \\\\\n",
       "0 & 1 & 1 & 1 & 1 & 0 & 0 & 0 & 1 & 0 \\\\\n",
       "0 & 1 & 0 & 1 & 1 & 1 & 1 & 0 & 0 & 0 \\\\\n",
       "0 & 1 & 1 & 1 & 1 & 0 & 1 & 0 & 1 & 1 \\\\\n",
       "1 & 1 & 0 & 1 & 0 & 1 & 1 & 0 & 0 & 1 \\\\\n",
       "0 & 1 & 1 & 0 & 0 & 1 & 0 & 0 & 0 & 1 \\\\\n",
       "0 & 1 & 0 & 0 & 0 & 1 & 1 & 1 & 1 & 0\n",
       "\\end{array}\\right)</script></html>"
      ],
      "text/plain": [
       "'Hb = ' [1 1 0 1 0 1 1 1 1 0]\n",
       "[1 1 1 0 0 0 1 0 0 1]\n",
       "[0 1 1 1 1 0 0 0 1 0]\n",
       "[0 1 0 1 1 1 1 0 0 0]\n",
       "[0 1 1 1 1 0 1 0 1 1]\n",
       "[1 1 0 1 0 1 1 0 0 1]\n",
       "[0 1 1 0 0 1 0 0 0 1]\n",
       "[0 1 0 0 0 1 1 1 1 0]"
      ]
     },
     "metadata": {},
     "output_type": "display_data"
    },
    {
     "data": {
      "text/html": [
       "<html><script type=\"math/tex; mode=display\">\\newcommand{\\Bold}[1]{\\mathbf{#1}}\\verb|Hp|\\phantom{\\verb!x!}\\verb|=| \\left(\\begin{array}{rrrrrrrrrr}\n",
       "1 & 0 & 1 & 1 & 0 & 0 & 1 & 1 & 0 & 1 \\\\\n",
       "0 & 1 & 1 & 0 & 1 & 1 & 1 & 0 & 1 & 1\n",
       "\\end{array}\\right)</script></html>"
      ],
      "text/plain": [
       "'Hp = ' [1 0 1 1 0 0 1 1 0 1]\n",
       "[0 1 1 0 1 1 1 0 1 1]"
      ]
     },
     "metadata": {},
     "output_type": "display_data"
    },
    {
     "data": {
      "text/html": [
       "<html><script type=\"math/tex; mode=display\">\\newcommand{\\Bold}[1]{\\mathbf{#1}}\\verb|M|\\phantom{\\verb!x!}\\verb|=| \\left(\\begin{array}{rrrrrrrr}\n",
       "1 & 1 & 0 & 0 & 1 & 1 & 0 & 1 \\\\\n",
       "1 & 0 & 1 & 1 & 1 & 0 & 1 & 1\n",
       "\\end{array}\\right)</script></html>"
      ],
      "text/plain": [
       "'M = ' [1 1 0 0 1 1 0 1]\n",
       "[1 0 1 1 1 0 1 1]"
      ]
     },
     "metadata": {},
     "output_type": "display_data"
    },
    {
     "data": {
      "text/html": [
       "<html><script type=\"math/tex; mode=display\">\\newcommand{\\Bold}[1]{\\mathbf{#1}}\\verb|G|\\phantom{\\verb!x!}\\verb|=| \\left(\\begin{array}{rr}\n",
       "1 & 0 \\\\\n",
       "0 & 1 \\\\\n",
       "\\hline\n",
       " 1 & 1 \\\\\n",
       "1 & 0 \\\\\n",
       "0 & 1 \\\\\n",
       "0 & 1 \\\\\n",
       "1 & 1 \\\\\n",
       "1 & 0 \\\\\n",
       "0 & 1 \\\\\n",
       "1 & 1\n",
       "\\end{array}\\right)</script></html>"
      ],
      "text/plain": [
       "'G = ' [1 0]\n",
       "[0 1]\n",
       "[---]\n",
       "[1 1]\n",
       "[1 0]\n",
       "[0 1]\n",
       "[0 1]\n",
       "[1 1]\n",
       "[1 0]\n",
       "[0 1]\n",
       "[1 1]"
      ]
     },
     "metadata": {},
     "output_type": "display_data"
    },
    {
     "name": "stdout",
     "output_type": "stream",
     "text": [
      "_________________________________________________________________________________________________________\n"
     ]
    },
    {
     "data": {
      "text/html": [
       "<html><script type=\"math/tex; mode=display\">\\newcommand{\\Bold}[1]{\\mathbf{#1}}\\verb|La|\\phantom{\\verb!x!}\\verb|cle|\\phantom{\\verb!x!}\\verb|publique|\\phantom{\\verb!x!}\\verb|est|\\phantom{\\verb!x!}\\verb|:|</script></html>"
      ],
      "text/plain": [
       "'La cle publique est : '"
      ]
     },
     "metadata": {},
     "output_type": "display_data"
    },
    {
     "data": {
      "text/html": [
       "<html><script type=\"math/tex; mode=display\">\\newcommand{\\Bold}[1]{\\mathbf{#1}}\\verb|Public|\\phantom{\\verb!x!}\\verb|Key|\\phantom{\\verb!x!}\\verb|=| \\left(\\begin{array}{rr}\n",
       "1 & 0 \\\\\n",
       "0 & 1 \\\\\n",
       "\\hline\n",
       " 1 & 1 \\\\\n",
       "1 & 0 \\\\\n",
       "0 & 1 \\\\\n",
       "0 & 1 \\\\\n",
       "1 & 1 \\\\\n",
       "1 & 0 \\\\\n",
       "0 & 1 \\\\\n",
       "1 & 1\n",
       "\\end{array}\\right)</script></html>"
      ],
      "text/plain": [
       "'Public Key = ' [1 0]\n",
       "[0 1]\n",
       "[---]\n",
       "[1 1]\n",
       "[1 0]\n",
       "[0 1]\n",
       "[0 1]\n",
       "[1 1]\n",
       "[1 0]\n",
       "[0 1]\n",
       "[1 1]"
      ]
     },
     "metadata": {},
     "output_type": "display_data"
    },
    {
     "name": "stdout",
     "output_type": "stream",
     "text": [
      "_________________________________________________________________________________________________________\n",
      "_________________________________________________________________________________________________________\n",
      "_________________________________________________________________________________________________________\n",
      "_________________________________________________________________________________________________________\n"
     ]
    },
    {
     "data": {
      "text/html": [
       "<html><script type=\"math/tex; mode=display\">\\newcommand{\\Bold}[1]{\\mathbf{#1}}\\verb|La|\\phantom{\\verb!x!}\\verb|cle|\\phantom{\\verb!x!}\\verb|prive|\\phantom{\\verb!x!}\\verb|est|\\phantom{\\verb!x!}\\verb|:|</script></html>"
      ],
      "text/plain": [
       "'La cle prive est : '"
      ]
     },
     "metadata": {},
     "output_type": "display_data"
    },
    {
     "data": {
      "text/html": [
       "<html><script type=\"math/tex; mode=display\">\\newcommand{\\Bold}[1]{\\mathbf{#1}}\\verb|Priv|\\phantom{\\verb!x!}\\verb|Key|\\phantom{\\verb!x!}\\verb|=| \\left(\\left(Z^{2} + 1,\\,Z^{3} + Z^{2} + Z,\\,0,\\,Z^{3} + 1,\\,Z^{3} + Z,\\,Z^{3} + Z^{2},\\,Z^{2} + Z,\\,Z^{2} + Z,\\,Z^{3} + Z^{2} + Z,\\,Z + 1\\right), \\left(Z^{2} + Z + 1\\right) X^{2} + \\left(Z^{3} + Z^{2}\\right) X + Z^{3} + 1\\right)</script></html>"
      ],
      "text/plain": [
       "'Priv Key = ' ((Z^2 + 1, Z^3 + Z^2 + Z, 0, Z^3 + 1, Z^3 + Z, Z^3 + Z^2, Z^2 + Z, Z^2 + Z, Z^3 + Z^2 + Z, Z + 1),\n",
       " (Z^2 + Z + 1)*X^2 + (Z^3 + Z^2)*X + Z^3 + 1)"
      ]
     },
     "metadata": {},
     "output_type": "display_data"
    }
   ],
   "source": [
    "#------------------------------------------------------------#\n",
    "#Prenom & Nom : El Hadji Mamadou Dia\n",
    "#Universite : Gaton Berger de Saint Louis\n",
    "#UFR : SAT\n",
    "#Parcours : Cryptotologie, Codage et Application(CCA)\n",
    "#Niveau : Master I\n",
    "#Module : Code Correcteur\n",
    "#Annee Universitaire : 2020/2021\n",
    "#-------------------------------------------------------------#\n",
    "\n",
    "print(\"________________________________________________________\")\n",
    "print(\"------------- |Cryptosysteme McEliece| -----------------\")\n",
    "print(\"________________________________________________________\")\n",
    "print(\"--------------- |Generation de cle| --------------------\")\n",
    "print(\"________________________________________________________\")\n",
    "def genkey(n, m, t):\n",
    "    k = n - (m*t)\n",
    "    if (n < 2^m & n > m*t) :\n",
    "        print(\"Il faut que n soit superieur a m facteur de 2t + 2\")\n",
    "    else :\n",
    "#Generation d'un polynome irreductible g(x) tels que deg(g) = t\n",
    "        F = GF(2^m, 'Z')\n",
    "        D = GF(2)\n",
    "        R = PolynomialRing(F, 'X')\n",
    "        while(1):\n",
    "            irreductible_poly = R.random_element(t)\n",
    "            if irreductible_poly.is_irreducible():\n",
    "                break\n",
    "        g = irreductible_poly\n",
    "        show(\"Nous avons generer le polynome irreductible ci-dessous\\n\")\n",
    "        show(\"g = \",g)\n",
    "#Generation du support L tels que Li != Lj et g(Li) != 0\n",
    "        L = random_vector(F , n)\n",
    "        i = 0\n",
    "        while(i != n):\n",
    "            for j in range(1 , n):\n",
    "                while(L[i] != L[j]) & (g(L[j]) != 0):\n",
    "                    break\n",
    "            i = i + 1\n",
    "        show(\"Nous avons generer le support ci-dessous\\n\")\n",
    "        show(\"L = \",L)\n",
    "        H = matrix(F, [[L[j]^i / g(L[j]) for i in [0..n-1]] for j in [0..t-1]])\n",
    "        show(\"La matrice de parite est donne par:\")\n",
    "        show(\"H = \",H)\n",
    "        Hb = matrix(D, m*H.nrows(), H.ncols())\n",
    "#Projectons chaque element sur m ligne\n",
    "        for i in range(H.nrows()):\n",
    "            for j in range(H.ncols()):\n",
    "                tab = bin(H[i,j].integer_representation())[2:]\n",
    "                tab = tab[::-1]\n",
    "                tab = tab + '0'*(m - len(tab))\n",
    "                tab = list(tab)\n",
    "                Hb[m*i:m*(i + 1), j] = vector(map(int, tab))\n",
    "        show(\"Hb = \",Hb)\n",
    "#Forme systematique\n",
    "        Hp = Hb.transpose().kernel().basis_matrix()\n",
    "        show(\"Hp = \",Hp)\n",
    "        M = Hp.matrix_from_columns([t..n-1])\n",
    "        show(\"M = \",M)\n",
    "        G =  block_matrix([[identity_matrix(D,k)],[M.transpose()]])\n",
    "        show(\"G = \",G)\n",
    "    return G,L,g,H\n",
    "B, T, s, A = genkey(10, 4, 2)\n",
    "print(\"_________________________________________________________________________________________________________\")\n",
    "show(\"La cle publique est : \")\n",
    "show(\"Public Key = \",B)\n",
    "print(\"_________________________________________________________________________________________________________\")\n",
    "print(\"_________________________________________________________________________________________________________\")\n",
    "print(\"_________________________________________________________________________________________________________\")\n",
    "print(\"_________________________________________________________________________________________________________\")\n",
    "show(\"La cle prive est : \")\n",
    "show(\"Priv Key = \",(T,s))"
   ]
  },
  {
   "cell_type": "markdown",
   "metadata": {},
   "source": [
    "# CHIFFREMENT"
   ]
  },
  {
   "cell_type": "code",
   "execution_count": 237,
   "metadata": {},
   "outputs": [
    {
     "name": "stdout",
     "output_type": "stream",
     "text": [
      "________________________________________________________\n",
      "------------- |Cryptosysteme McEliece| -----------------\n",
      "________________________________________________________\n",
      "--------------- |   Chiffrement   | --------------------\n",
      "________________________________________________________\n"
     ]
    },
    {
     "data": {
      "text/html": [
       "<html><script type=\"math/tex; mode=display\">\\newcommand{\\Bold}[1]{\\mathbf{#1}}\\verb|e|\\phantom{\\verb!x!}\\verb|=| \\left(1,\\,0,\\,0,\\,0,\\,0,\\,0,\\,0,\\,0,\\,0,\\,1\\right)</script></html>"
      ],
      "text/plain": [
       "'e = ' (1, 0, 0, 0, 0, 0, 0, 0, 0, 1)"
      ]
     },
     "metadata": {},
     "output_type": "display_data"
    },
    {
     "name": "stdout",
     "output_type": "stream",
     "text": [
      "_________________________________________________________________________________________________________\n",
      "_________________________________________________________________________________________________________\n",
      "\n",
      "Le message chiffrer est : \n"
     ]
    },
    {
     "data": {
      "text/html": [
       "<html><script type=\"math/tex; mode=display\">\\newcommand{\\Bold}[1]{\\mathbf{#1}}\\verb|message_code|\\phantom{\\verb!x!}\\verb|=| \\left(\\begin{array}{rrrrrrrrrr}\n",
       "0 & 0 & 1 & 1 & 0 & 0 & 1 & 1 & 0 & 0\n",
       "\\end{array}\\right)</script></html>"
      ],
      "text/plain": [
       "'message_code = ' [0 0 1 1 0 0 1 1 0 0]"
      ]
     },
     "metadata": {},
     "output_type": "display_data"
    },
    {
     "name": "stdout",
     "output_type": "stream",
     "text": [
      "_________________________________________________________________________________________________________\n",
      "_________________________________________________________________________________________________________\n"
     ]
    }
   ],
   "source": [
    "#------------------------------------------------------------#\n",
    "#Prenom & Nom : El Hadji Mamadou Dia\n",
    "#Universite : Gaton Berger de Saint Louis\n",
    "#UFR : SAT\n",
    "#Parcours : Cryptotologie, Codage et Application(CCA)\n",
    "#Niveau : Master I\n",
    "#Module : Code Correcteur\n",
    "#Annee Universitaire : 2020/2021\n",
    "#-------------------------------------------------------------#\n",
    "\n",
    "print(\"________________________________________________________\")\n",
    "print(\"------------- |Cryptosysteme McEliece| -----------------\")\n",
    "print(\"________________________________________________________\")\n",
    "print(\"--------------- |   Chiffrement   | --------------------\")\n",
    "print(\"________________________________________________________\")\n",
    "\n",
    "def encrypt(message, m, n, t):\n",
    "    F = GF(2)\n",
    "    k = n - (m*t)\n",
    "    #Generation de l'erreur e tel que le poids de e est egale a t\n",
    "    e = random_vector(F , n)\n",
    "    while e.hamming_weight() != t:\n",
    "        e = random_vector(F , n)\n",
    "    show(\"e = \", e)\n",
    "    #Le messgae chiffrer est :\n",
    "    c = matrix((B*message) + e)\n",
    "    return c\n",
    "message_code = encrypt(vector([1,0]),4, 10, 2)\n",
    "print(\"_________________________________________________________________________________________________________\")\n",
    "print(\"_________________________________________________________________________________________________________\\n\")\n",
    "print(\"Le message chiffrer est : \")\n",
    "show(\"message_code = \",message_code)\n",
    "print(\"_________________________________________________________________________________________________________\")\n",
    "print(\"_________________________________________________________________________________________________________\")"
   ]
  },
  {
   "cell_type": "markdown",
   "metadata": {},
   "source": [
    "# DECHIFFREMENT"
   ]
  },
  {
   "cell_type": "code",
   "execution_count": 178,
   "metadata": {},
   "outputs": [],
   "source": [
    "def split(p):\n",
    "    Phi = p.parent()\n",
    "    p0 = Phi([sqrt(c) for c in p.list()[0::2]])\n",
    "    p1 = Phi([sqrt(c) for c in p.list()[1::2]])\n",
    "    return (p0,p1)"
   ]
  },
  {
   "cell_type": "code",
   "execution_count": 179,
   "metadata": {},
   "outputs": [],
   "source": [
    "def inverse_g(p):\n",
    "    (d,u,v) = xgcd(p,s)\n",
    "    return u.mod(s)"
   ]
  },
  {
   "cell_type": "code",
   "execution_count": 180,
   "metadata": {},
   "outputs": [],
   "source": [
    "def norm(a, b):\n",
    "    X = s.parent().gen()\n",
    "    return 2^((a^2+X*b^2).degree())"
   ]
  },
  {
   "cell_type": "code",
   "execution_count": 216,
   "metadata": {},
   "outputs": [],
   "source": [
    "def lattice_basis_reduce(y):\n",
    "    t = s.degree()\n",
    "    a = []\n",
    "    a.append(0)\n",
    "    b = []\n",
    "    b.append(0)\n",
    "    (q,r) = s.quo_rem(y)\n",
    "    (a[0],b[0]) = simplify((s - q*y, 0 - q))\n",
    "    \n",
    "    if norm(a[0],b[0]) > 2^t:\n",
    "        a.append(0); b.append(0)\n",
    "        (q,r) = y.quo_rem(a[0])\n",
    "        (a[1],b[1]) = (r, 1 - q*b[0])\n",
    "    else:\n",
    "        return (a[0], b[0])\n",
    "    i = 1\n",
    "    while norm(a[i],b[i]) > 2^t:\n",
    "        a.append(0)\n",
    "        b.append(0)\n",
    "        (q,r) = b[i-1].quo_rem(b[i])\n",
    "        (b[i+1],a[i+1]) = (r, a[i-1] - q*a[i])\n",
    "        i = i + 1\n",
    "    return (a[i],b[i])"
   ]
  },
  {
   "cell_type": "code",
   "execution_count": 239,
   "metadata": {
    "scrolled": false
   },
   "outputs": [
    {
     "name": "stdout",
     "output_type": "stream",
     "text": [
      "________________________________________________________\n",
      "------------- |Cryptosysteme McEliece| -----------------\n",
      "________________________________________________________\n",
      "--------------- |   Dechiffrement   | --------------------\n",
      "________________________________________________________\n"
     ]
    },
    {
     "data": {
      "text/html": [
       "<html><script type=\"math/tex; mode=display\">\\newcommand{\\Bold}[1]{\\mathbf{#1}}\\verb|syndrome|\\phantom{\\verb!x!}\\verb|=| \\left(\\begin{array}{rrrrrrrrrr}\n",
       "\\left(Z^{3} + 1\\right) X + Z^{3} + Z^{2} & \\left(Z^{3} + Z^{2} + Z\\right) X & \\left(Z^{3} + Z^{2} + Z\\right) X + Z^{3} + Z + 1 & Z X + Z^{3} + Z^{2} + Z & Z^{2} X + Z + 1 & \\left(Z^{3} + Z^{2} + Z + 1\\right) X + Z^{3} + Z^{2} + 1 & \\left(Z^{2} + Z + 1\\right) X + Z^{3} + Z^{2} + 1 & \\left(Z^{2} + Z + 1\\right) X + Z^{3} + Z^{2} + 1 & \\left(Z^{3} + Z^{2} + Z\\right) X & \\left(Z^{2} + Z\\right) X + Z^{3}\n",
       "\\end{array}\\right)</script></html>"
      ],
      "text/plain": [
       "'syndrome = ' [              (Z^3 + 1)*X + Z^3 + Z^2                     (Z^3 + Z^2 + Z)*X       (Z^3 + Z^2 + Z)*X + Z^3 + Z + 1                   Z*X + Z^3 + Z^2 + Z                         Z^2*X + Z + 1 (Z^3 + Z^2 + Z + 1)*X + Z^3 + Z^2 + 1       (Z^2 + Z + 1)*X + Z^3 + Z^2 + 1       (Z^2 + Z + 1)*X + Z^3 + Z^2 + 1                     (Z^3 + Z^2 + Z)*X                     (Z^2 + Z)*X + Z^3]"
      ]
     },
     "metadata": {},
     "output_type": "display_data"
    },
    {
     "data": {
      "text/html": [
       "<html><script type=\"math/tex; mode=display\">\\newcommand{\\Bold}[1]{\\mathbf{#1}}\\verb|syndrome_poly|\\phantom{\\verb!x!}\\verb|=| \\left(Z^{3} + Z^{2} + Z + 1\\right) X + Z^{2}</script></html>"
      ],
      "text/plain": [
       "'syndrome_poly = ' (Z^3 + Z^2 + Z + 1)*X + Z^2"
      ]
     },
     "metadata": {},
     "output_type": "display_data"
    },
    {
     "data": {
      "text/html": [
       "<html><script type=\"math/tex; mode=display\">\\newcommand{\\Bold}[1]{\\mathbf{#1}}\\verb|L'equation|\\phantom{\\verb!x!}\\verb|cle|\\phantom{\\verb!x!}\\verb|est:|</script></html>"
      ],
      "text/plain": [
       "\"L'equation cle est: \""
      ]
     },
     "metadata": {},
     "output_type": "display_data"
    },
    {
     "data": {
      "text/html": [
       "<html><script type=\"math/tex; mode=display\">\\newcommand{\\Bold}[1]{\\mathbf{#1}}\\verb|Sigma|\\phantom{\\verb!x!}\\verb|=| \\left(Z^{2} + Z + 1\\right) X^{2} + X + Z^{3} + Z + 1</script></html>"
      ],
      "text/plain": [
       "'Sigma = ' (Z^2 + Z + 1)*X^2 + X + Z^3 + Z + 1"
      ]
     },
     "metadata": {},
     "output_type": "display_data"
    },
    {
     "name": "stdout",
     "output_type": "stream",
     "text": [
      "_________________________________________________________________________________________________________\n",
      "_________________________________________________________________________________________________________\n",
      "\n",
      "Le message dechiffrer est : \n"
     ]
    },
    {
     "data": {
      "text/html": [
       "<html><script type=\"math/tex; mode=display\">\\newcommand{\\Bold}[1]{\\mathbf{#1}}\\verb|message_decode|\\phantom{\\verb!x!}\\verb|=| \\left(\\begin{array}{rrrrrrrrrr}\n",
       "0 & 0 & 1 & 1 & 0 & 0 & 1 & 1 & 0 & 0\n",
       "\\end{array}\\right)</script></html>"
      ],
      "text/plain": [
       "'message_decode = ' [0 0 1 1 0 0 1 1 0 0]"
      ]
     },
     "metadata": {},
     "output_type": "display_data"
    },
    {
     "name": "stdout",
     "output_type": "stream",
     "text": [
      "_________________________________________________________________________________________________________\n",
      "_________________________________________________________________________________________________________\n"
     ]
    }
   ],
   "source": [
    "#------------------------------------------------------------#\n",
    "#Prenom & Nom : El Hadji Mamadou Dia\n",
    "#Universite : Gaton Berger de Saint Louis\n",
    "#UFR : SAT\n",
    "#Parcours : Cryptotologie, Codage et Application(CCA)\n",
    "#Niveau : Master I\n",
    "#Module : Code Correcteur d'erreur\n",
    "#Annee Universitaire : 2020/2021\n",
    "#-------------------------------------------------------------#\n",
    "\n",
    "print(\"________________________________________________________\")\n",
    "print(\"------------- |Cryptosysteme McEliece| -----------------\")\n",
    "print(\"________________________________________________________\")\n",
    "print(\"--------------- |   Dechiffrement   | --------------------\")\n",
    "print(\"________________________________________________________\")\n",
    "\n",
    "def decrypt(m, n, t):\n",
    "    F = GF(2^m, 'Z')\n",
    "    D = GF(2, 'Z')\n",
    "    Z = F.gen()\n",
    "    R = PolynomialRing(F, 'X')\n",
    "    X = R.gen()\n",
    "#Construction du Syndrome\n",
    "    syndrome = matrix(R, 1, len(T))\n",
    "    for i in range(len(T)):\n",
    "        syndrome[0,i] = (X - T[i]).inverse_mod(s)\n",
    "    show(\"syndrome = \",syndrome)\n",
    "    synd = syndrome*o.transpose()\n",
    "    syndrome_poly = 0\n",
    "    for i in range (synd.nrows()):\n",
    "        syndrome_poly += synd[i,0]*X^i\n",
    "    show(\"syndrome_poly = \", syndrome_poly)\n",
    "    X = s.parent().gen()\n",
    "#Square root\n",
    "    (g0,g1) = split(s); sqrt_X = g0*inverse_g(g1);\n",
    "    (T0,T1) = split(inverse_g(syndrome_poly) - X);\n",
    "    R = (T0 + sqrt_X*T1).mod(s)\n",
    "#Equation cle\n",
    "    (alpha, beta) = lattice_basis_reduce(R)\n",
    "    sigma = (alpha^2) + (beta^2)*X\n",
    "    show(\"L'equation cle est: \")\n",
    "    show(\"Sigma = \",sigma)\n",
    "#Dechiffrement\n",
    "    for i in range(len(T)):\n",
    "        if sigma(T[i]) == 0:\n",
    "            message_code[0,i] += 1\n",
    "    return message_code\n",
    "message_decode = decrypt(4, 10, 2)\n",
    "print(\"_________________________________________________________________________________________________________\")\n",
    "print(\"_________________________________________________________________________________________________________\\n\")\n",
    "print(\"Le message dechiffrer est : \")\n",
    "show(\"message_decode = \",message_decode)\n",
    "print(\"_________________________________________________________________________________________________________\")\n",
    "print(\"_________________________________________________________________________________________________________\")"
   ]
  },
  {
   "cell_type": "code",
   "execution_count": null,
   "metadata": {},
   "outputs": [],
   "source": []
  }
 ],
 "metadata": {
  "kernelspec": {
   "display_name": "SageMath 8.9",
   "language": "sage",
   "name": "sagemath"
  },
  "language_info": {
   "codemirror_mode": {
    "name": "ipython",
    "version": 2
   },
   "file_extension": ".py",
   "mimetype": "text/x-python",
   "name": "python",
   "nbconvert_exporter": "python",
   "pygments_lexer": "ipython2",
   "version": "2.7.15"
  }
 },
 "nbformat": 4,
 "nbformat_minor": 2
}
